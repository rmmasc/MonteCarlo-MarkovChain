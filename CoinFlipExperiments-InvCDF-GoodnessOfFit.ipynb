{
 "cells": [
  {
   "cell_type": "markdown",
   "metadata": {},
   "source": [
    "# Spring 19 EE511 Homework 1 \n",
    "## Royston Marian Mascarenhas\n"
   ]
  },
  {
   "cell_type": "markdown",
   "metadata": {},
   "source": [
    "## Imports and Functions\n",
    "### Please scroll down for the content"
   ]
  },
  {
   "cell_type": "code",
   "execution_count": 2,
   "metadata": {},
   "outputs": [],
   "source": [
    "import numpy as np\n",
    "from matplotlib import pyplot as plt"
   ]
  },
  {
   "cell_type": "code",
   "execution_count": 3,
   "metadata": {},
   "outputs": [],
   "source": [
    "def trialgen (n):\n",
    "    trials = np.random.uniform(low=0.0, high=1.0, size=n) #generate samples of size n from uniform distribution\n",
    "    trialsF = []\n",
    "    for i in trials: #threshold values to 0 or 1\n",
    "        if (i>0.5):\n",
    "            trialsF.append(1)\n",
    "        else:\n",
    "            trialsF.append(0)\n",
    "    return trialsF      "
   ]
  },
  {
   "cell_type": "code",
   "execution_count": 4,
   "metadata": {},
   "outputs": [],
   "source": [
    "def success_count (k):   \n",
    "    trials2 = np.random.uniform(low=0.0, high=1.0, size=k) #generate samples of size n from uniform distribution\n",
    "    trialsF2 = []\n",
    "    for i in trials2: #threshold values to 0 or 1\n",
    "        if (i>0.5):\n",
    "            trialsF2.append(1)\n",
    "        else:\n",
    "            trialsF2.append(0)\n",
    "    count = 0\n",
    "    for i in trialsF2:\n",
    "        if(i==1):\n",
    "            count = count + 1 #count the number of successes\n",
    "    return count"
   ]
  },
  {
   "cell_type": "code",
   "execution_count": 32,
   "metadata": {},
   "outputs": [],
   "source": [
    "def success_run (lst):\n",
    "    runs = []\n",
    "    count = 1\n",
    "    lst2 = [0] + lst + [0]\n",
    "    #print(lst2)\n",
    "    for i in range(1,(len(lst)+1)): #find every run of successes\n",
    "        if(lst2[i]==1 and lst2[i+1]==1):\n",
    "            count = count + 1\n",
    "        elif (lst2[i-1] == 1 and lst2[i]==1 and lst2[i+1]!=1):\n",
    "            runs.append(count) #record every run\n",
    "            count = 1\n",
    "    #print(runs)\n",
    "    if(lst == []): \n",
    "        return 0\n",
    "    longest_run = max(runs) #find longest run\n",
    "    #print(runs) \n",
    "    #print(len(runs))\n",
    "    #runs_len = len(set(runs))\n",
    "    #plt.hist(runs,bins=longest_run,range=(0,longest_run))\n",
    "    return longest_run"
   ]
  },
  {
   "cell_type": "markdown",
   "metadata": {},
   "source": [
    "# [A Few Coins]"
   ]
  },
  {
   "cell_type": "markdown",
   "metadata": {},
   "source": [
    "### Problem A: Write a routine to simulate a fair Bernoulli trial in your language of choice. Generate a histogram for 100 simulated Bernoulli trials."
   ]
  },
  {
   "cell_type": "code",
   "execution_count": 153,
   "metadata": {},
   "outputs": [],
   "source": [
    "sampl = trialgen(100)"
   ]
  },
  {
   "cell_type": "markdown",
   "metadata": {},
   "source": [
    "#### Summary of Approach:"
   ]
  },
  {
   "cell_type": "code",
   "execution_count": 154,
   "metadata": {},
   "outputs": [
    {
     "data": {
      "text/plain": [
       "Text(0,0.5,'Frequency')"
      ]
     },
     "execution_count": 154,
     "metadata": {},
     "output_type": "execute_result"
    },
    {
     "data": {
      "image/png": "[encoded data removed]",
      "text/plain": [
       "<Figure size 432x288 with 1 Axes>"
      ]
     },
     "metadata": {},
     "output_type": "display_data"
    }
   ],
   "source": [
    "N,bins,patches=plt.hist(sampl,bins=2,range=(0,2)) # plot histogram\n",
    "patches[0].set_facecolor('b')\n",
    "patches[1].set_facecolor('r')\n",
    "plt.xlabel('Outcomes')\n",
    "plt.ylabel('Frequency')"
   ]
  },
  {
   "cell_type": "markdown",
   "metadata": {},
   "source": [
    "> What we see above is a Bernouilli distribution."
   ]
  },
  {
   "cell_type": "markdown",
   "metadata": {},
   "source": [
    "*Algorithm followed:*\n",
    "1. Generate 100 random samples from a uniform distribution with range (0,1)\n",
    "2. Apply a threshold at 0.5 and round off the values above 0.5 to 1 and below 0.5 to 0 for each of the hundred samples\n",
    "3. Count the number of successes and failures. Visualize it in the form of a histogram.\n",
    "\n",
    "User defined function used: $trialgen(n)$ <br>\n",
    "Parameters: n -> no. of samples used <br>\n",
    "Returns: the list of samples from the bernouilli distribution <br>"
   ]
  },
  {
   "cell_type": "markdown",
   "metadata": {},
   "source": [
    "But something we can question is whether the number of successes and failures in each epoch is biased. Let's take 10 such epochs and count the number of heads and tails in each epoch. "
   ]
  },
  {
   "cell_type": "code",
   "execution_count": 23,
   "metadata": {},
   "outputs": [],
   "source": [
    "sampl = trialgen(100)\n",
    "c1 = []\n",
    "c0 = []\n",
    "for i in range(0,9):\n",
    "    count1 = 0\n",
    "    count0 = 0\n",
    "    spl = trialgen(100)\n",
    "    for i in spl:\n",
    "        if(i==1):\n",
    "            count1+=1\n",
    "        else:\n",
    "            count0+=1\n",
    "    c1.append(count1) \n",
    "    c0.append(count0)"
   ]
  },
  {
   "cell_type": "code",
   "execution_count": 24,
   "metadata": {},
   "outputs": [
    {
     "name": "stdout",
     "output_type": "stream",
     "text": [
      "Successes in each epoch:[59, 44, 53, 53, 50, 47, 56, 49, 47]\n",
      "Failures in each epoch:[41, 56, 47, 47, 50, 53, 44, 51, 53]\n",
      "Mean of number of successes (1s) observed: 50.888888888888886 and standard deviation of number of successes: 4.507880616689065\n",
      "Mean of number of failures (0s) observed: 49.111111111111114 and standard deviation of number of failures: 4.507880616689065\n"
     ]
    }
   ],
   "source": [
    "#Sucesses in each epoch, mean of successes and standard deviation based on 10 observations of 100 samples each\n",
    "print(\"Successes in each epoch:\"+str(c1))\n",
    "print(\"Failures in each epoch:\"+str(c0))\n",
    "print(\"Mean of number of successes (1s) observed: \"+str(np.mean(c1))+\" and standard deviation of number of successes: \"+str(np.std(c1)))\n",
    "print(\"Mean of number of failures (0s) observed: \"+str(np.mean(c0))+\" and standard deviation of number of failures: \"+str(np.std(c0)))"
   ]
  },
  {
   "cell_type": "markdown",
   "metadata": {},
   "source": [
    "#### Discussion of Results:"
   ]
  },
  {
   "cell_type": "markdown",
   "metadata": {},
   "source": [
    "- What we see above is a Bernouilli distribution. It has two outcomes. <br>\n",
    "\n",
    "- From the statistic, we can observe that the Bernouilli trial is fair as the mean and the standard deviation of both outcomes are in par. <br>\n",
    "\n",
    "- Each time, the number of successes and failures differ but when the average of each of these iterations is taken,\n",
    "    we get a symmetric distribution of frequency of both outcomes. <br>\n",
    "    "
   ]
  },
  {
   "cell_type": "markdown",
   "metadata": {},
   "source": [
    "### Problem B: Write a routine to count the number of successes in 7 fair Bernoulli trials. Generate a histogram for 100 samples of this success-counting random variable."
   ]
  },
  {
   "cell_type": "code",
   "execution_count": 202,
   "metadata": {},
   "outputs": [],
   "source": [
    "n = 100\n",
    "k=7\n",
    "lst = []\n",
    "for i in range(0,n):\n",
    "    l = 0\n",
    "    l = success_count(k)\n",
    "    lst.append(l)"
   ]
  },
  {
   "cell_type": "markdown",
   "metadata": {},
   "source": [
    "#### Summary of approach"
   ]
  },
  {
   "cell_type": "code",
   "execution_count": 203,
   "metadata": {},
   "outputs": [
    {
     "data": {
      "text/plain": [
       "Text(0.5,1,'For 100 iterations')"
      ]
     },
     "execution_count": 203,
     "metadata": {},
     "output_type": "execute_result"
    },
    {
     "data": {
      "image/png": "[encoded data removed]",
      "text/plain": [
       "<Figure size 432x288 with 1 Axes>"
      ]
     },
     "metadata": {},
     "output_type": "display_data"
    }
   ],
   "source": [
    "plt.hist(lst,bins=k,range=(0,k))\n",
    "plt.ylabel('Frequency')\n",
    "plt.xlabel('No. of successes in each sample (7 trials)')\n",
    "plt.title('For 100 iterations')"
   ]
  },
  {
   "cell_type": "code",
   "execution_count": 93,
   "metadata": {},
   "outputs": [
    {
     "data": {
      "text/plain": [
       "Text(0.5,1,'For larger iterations, more samples makes the histogram more symmetric')"
      ]
     },
     "execution_count": 93,
     "metadata": {},
     "output_type": "execute_result"
    },
    {
     "data": {
      "image/png": "[encoded data removed]",
      "text/plain": [
       "<Figure size 432x288 with 1 Axes>"
      ]
     },
     "metadata": {},
     "output_type": "display_data"
    }
   ],
   "source": [
    "n = 1000\n",
    "k=7\n",
    "lst = []\n",
    "for i in range(0,n):\n",
    "    l = 0\n",
    "    l = success_count(k)\n",
    "    lst.append(l)\n",
    "plt.hist(lst,bins=k,range=(0,k))\n",
    "plt.ylabel('Frequency')\n",
    "plt.xlabel('No. of successes in each sample (7 trials)')\n",
    "plt.title('For larger iterations, more samples makes the histogram more symmetric')"
   ]
  },
  {
   "cell_type": "markdown",
   "metadata": {},
   "source": [
    "> The distribution we see above is a binomial distribution with k  = 7"
   ]
  },
  {
   "cell_type": "markdown",
   "metadata": {},
   "source": [
    "- The mean of a binomial distribution (n,p) is n*p. In this case, it is 7 x 0.5 = 3.5\n",
    "- The variance is n*p*q which is 7 x 0.5 x 0.5 = 1.75\n",
    "- The standard deviation is 1.333\n",
    "\n",
    "_Algorithm_:\n",
    "1. Generate k thresholded samples (o or 1) from the uniform ditribution\n",
    "2. Count the number of successes and store them\n",
    "3. Repeat the process for a 1000 times\n",
    "\n",
    "User defined functions used: <br>\n",
    "$trialgen(n)$ <br>\n",
    "Parameters: n -> no. of samples used <br>\n",
    "Returns: the list of samples from the bernouilli distribution <br>\n",
    "\n",
    "$success_count (k)$ <br>\n",
    "Parameters: k -> no. trials per iteration <br>\n",
    "Returns: the count of number of succcesses <br>"
   ]
  },
  {
   "cell_type": "markdown",
   "metadata": {},
   "source": [
    "#### Discussion of Results:"
   ]
  },
  {
   "cell_type": "markdown",
   "metadata": {},
   "source": [
    "- Above, we observe the pdf of a binomial distribution\n",
    "- The mean is 3.5. From the histogram, we observe maximum density of frequency around the mean\n",
    "- Here, since p is 0.5, i.e. the outcomes are equiprobable, the histogram is symmetric\n",
    "- The trials in a binomial distribution are independent of each other\n",
    "- For larger iterations, more samples makes the histogram more symmetric"
   ]
  },
  {
   "cell_type": "markdown",
   "metadata": {},
   "source": [
    "### Problem C: Write a routine to count the longest run of heads in 100 Bernoulli samples. Generate a histogram for this random variable."
   ]
  },
  {
   "cell_type": "code",
   "execution_count": 65,
   "metadata": {},
   "outputs": [],
   "source": [
    "lst2 = []\n",
    "longest_runs = []\n",
    "for i in range(0,1000):\n",
    "    lst2 = trialgen(100)\n",
    "    u = success_run(lst2)\n",
    "    longest_runs.append(u)\n",
    "    lst2=[]\n",
    "    u = 0"
   ]
  },
  {
   "cell_type": "markdown",
   "metadata": {},
   "source": [
    "#### Summary and Approach:"
   ]
  },
  {
   "cell_type": "code",
   "execution_count": 69,
   "metadata": {},
   "outputs": [
    {
     "data": {
      "text/plain": [
       "Text(0,0.5,'Frequency')"
      ]
     },
     "execution_count": 69,
     "metadata": {},
     "output_type": "execute_result"
    },
    {
     "data": {
      "image/png": "[encoded data removed]",
      "text/plain": [
       "<Figure size 432x288 with 1 Axes>"
      ]
     },
     "metadata": {},
     "output_type": "display_data"
    }
   ],
   "source": [
    "min1=np.min(longest_runs)\n",
    "max1=np.max(longest_runs)\n",
    "plt.hist(longest_runs,bins=max1-min1,range=(min1,max1))\n",
    "plt.xlabel(\"No. of successive successes in each sample\")\n",
    "plt.ylabel(\"Frequency\")"
   ]
  },
  {
   "cell_type": "markdown",
   "metadata": {},
   "source": [
    "> The distribution that we see above is a skewed mulitinomial distribution"
   ]
  },
  {
   "cell_type": "markdown",
   "metadata": {},
   "source": [
    "_Algorithm_:\n",
    "1. Generate 100 thresholded samples (0 or 1) from the uniform ditribution\n",
    "2. Count the longest runs of contiguous 1s \n",
    "3. Repeat the process for a 1000 times\n",
    "\n",
    "User defined functions used: <br>\n",
    "$trialgen(n)$ <br>\n",
    "Parameters: n -> no. of samples used <br>\n",
    "Returns: the list of samples from the bernouilli distribution <br>\n",
    "\n",
    "__success_run (lst)__<br>\n",
    "Parameters: lst -> list of trials <br>\n",
    "Returns: longest run of number of succcesses <br>"
   ]
  },
  {
   "cell_type": "markdown",
   "metadata": {},
   "source": [
    "#### Discussion of Results:"
   ]
  },
  {
   "cell_type": "markdown",
   "metadata": {},
   "source": [
    "- The distribution that we see above is a skewed mulitinomial distribution\n",
    "- In the previous case, the number of outcomes were just two. Now, however, the range is more or less between 3 and 15. Thus, multinomial. Therefore, we can say that each observation has a discrete number of outcomes.\n",
    "- It is skewed to the right because of the varying probabilities of each outcomes\n",
    "- From the graph, we can eyeball that the chances of having 6-7 longest run is the highest since it is biased in that direction\n",
    "-  This is what differentiates it from problem b where the histogram was symmetric because of equal probabilities"
   ]
  },
  {
   "cell_type": "markdown",
   "metadata": {},
   "source": [
    "### Comparison Summary:\n",
    "\n",
    "1. In the first sub problem, the histogram was the bernouilli RV. The second was the binomial RV followed by the multinomial RV.\n",
    "2. The first two histograms had the property of symmetry whereas the last histogram lacked it due to varying outcome probablities.\n",
    "3. The probability of each outcome was constant in each case."
   ]
  },
  {
   "cell_type": "markdown",
   "metadata": {},
   "source": [
    "# [Counting Successes]"
   ]
  },
  {
   "cell_type": "markdown",
   "metadata": {},
   "source": [
    "### Take your Bernoulli success-counting random variable (the binomial random variable). Generate and sum k=5 samples from this routine. Generate 300 such sums and histogram your results. Repeat for k={10, 30, 50}. Comment on the histograms you observe for the different values of k."
   ]
  },
  {
   "cell_type": "code",
   "execution_count": 113,
   "metadata": {},
   "outputs": [
    {
     "data": {
      "image/png": "[encoded data removed]",
      "text/plain": [
       "<Figure size 432x288 with 1 Axes>"
      ]
     },
     "metadata": {},
     "output_type": "display_data"
    },
    {
     "data": {
      "image/png": "[encoded data removed]",
      "text/plain": [
       "<Figure size 432x288 with 1 Axes>"
      ]
     },
     "metadata": {},
     "output_type": "display_data"
    },
    {
     "data": {
      "image/png": "[encoded data removed]",
      "text/plain": [
       "<Figure size 432x288 with 1 Axes>"
      ]
     },
     "metadata": {},
     "output_type": "display_data"
    },
    {
     "data": {
      "image/png": "[encoded data removed]",
      "text/plain": [
       "<Figure size 432x288 with 1 Axes>"
      ]
     },
     "metadata": {},
     "output_type": "display_data"
    }
   ],
   "source": [
    "n = 300\n",
    "k= [5,10,30,50]\n",
    "lstk5 = []\n",
    "for j in k:\n",
    "    for i in range(0,n):\n",
    "        l5 = 0\n",
    "        l5 = success_count(j)\n",
    "        lstk5.append(l5)\n",
    "    plt.figure(j/5)\n",
    "    if(j==5):\n",
    "        plt.title('For k = 5')\n",
    "    elif(j==10):\n",
    "        plt.title('For k = 10')\n",
    "    elif(j==30):\n",
    "        plt.title('For k = 30')\n",
    "    elif(j==50):\n",
    "        plt.title('For k = 50')\n",
    "    plt.ylabel('Frequency')\n",
    "    plt.xlabel('Successes in each sample of k trials')\n",
    "    plt.hist(lstk5,bins=j,range=(0,j))\n",
    "    lstk5 = []"
   ]
  },
  {
   "cell_type": "markdown",
   "metadata": {},
   "source": [
    "#### Summary of Approach: (includes plots above)"
   ]
  },
  {
   "cell_type": "markdown",
   "metadata": {},
   "source": [
    "> The distributions above are binomial distributions."
   ]
  },
  {
   "cell_type": "markdown",
   "metadata": {},
   "source": [
    "- The mean of a binomial distribution (n,p) is n*p. In this case, it is \n",
    "  1. 5 x 0.5 = 2.5 when k = 5\n",
    "  2. 10 x 0.5 = 5 when k = 10\n",
    "  3. 30 x 0.5 = 15 when k = 30\n",
    "  4. 50 x 0.5 = 25 when k = 50\n",
    "*********************************************************************\n",
    "- The variance is n*p*q which is \n",
    "  1. 5 x 0.5 x 0.5 = 1.25 when k = 5\n",
    "  2. 10 x 0.5 x 0.5 = 2.5 when k = 10\n",
    "  3. 30 x 0.5 x 0.5 = 7.5 when k = 30\n",
    "  4. 50 x 0.5 x 0.5 = 12.5 when k = 50\n",
    "\n",
    "_Algorithm_:\n",
    "1. Generate k thresholded samples (0 or 1) from the uniform ditribution\n",
    "2. Count the number of successes and store them\n",
    "3. Repeat the process for 300 times\n",
    "4. Repeat for different values of k\n",
    "\n",
    "User defined functions used: <br>\n",
    "$trialgen(n)$ <br>\n",
    "Parameters: n -> no. of samples used <br>\n",
    "Returns: the list of samples from the bernouilli distribution <br>\n",
    "\n",
    "$success_count (k)$ <br>\n",
    "Parameters: k -> no. trials per iteration <br>\n",
    "Returns: the count of number of succcesses <br>"
   ]
  },
  {
   "cell_type": "markdown",
   "metadata": {},
   "source": [
    "#### Discussion of Results:"
   ]
  },
  {
   "cell_type": "markdown",
   "metadata": {},
   "source": [
    "- We see above that with changes in k (number of trials), the distribution changes in shape but the symmetry is almost maintained throughout the changes\n",
    "- In each case, the maximum density of points is observed around the mean\n",
    "- The probability of each outcome remains constant from trial to trial\n",
    "\n",
    "Effect of number of trials n and probability of success p on shape:\n",
    "\n",
    "- For small p and small n, the binomial distribution is what we call skewed right. That is, the bulk of the probability falls in the smaller numbers.\n",
    "- For large p and small n, the binomial distribution is what we call skewed left. That is, the bulk of the probability falls in the larger numbers\n",
    "- For p = 0.5 and any n, the binomial distribution is what we call symmetric\n",
    "- For small p and large n, the binomial distribution approaches symmetry\n",
    "\n"
   ]
  },
  {
   "cell_type": "markdown",
   "metadata": {},
   "source": [
    "# [Continuous Distributions]"
   ]
  },
  {
   "cell_type": "markdown",
   "metadata": {},
   "source": [
    "### Use the inverse CDF method to generate 1000 samples of the X~exp(5) and Y~Cauchy(0,2). Generate histograms of the samples. Suggests other methods for testing goodness-of-fit."
   ]
  },
  {
   "cell_type": "code",
   "execution_count": 98,
   "metadata": {},
   "outputs": [],
   "source": [
    "theta = 5\n",
    "expt = np.random.uniform(low=0.0, high=1.0, size=1000)\n",
    "ICDF1 = []\n",
    "temp = 0\n",
    "for i in expt:    \n",
    "    temp = - theta* np.log(1 - i)\n",
    "    ICDF1.append(temp)"
   ]
  },
  {
   "cell_type": "code",
   "execution_count": 127,
   "metadata": {},
   "outputs": [],
   "source": [
    "theta2 = 15 #Exponential for theta = 15\n",
    "expt2 = np.random.uniform(low=0.0, high=1.0, size=1000)\n",
    "ICDF2 = []\n",
    "temp2 = 0\n",
    "for i in expt2:    \n",
    "    temp2 = - theta2* np.log(1 - i)\n",
    "    ICDF2.append(temp2)"
   ]
  },
  {
   "cell_type": "code",
   "execution_count": 128,
   "metadata": {},
   "outputs": [],
   "source": [
    "theta3 = 25 #Exponential for theta = 25\n",
    "expt3 = np.random.uniform(low=0.0, high=1.0, size=1000)\n",
    "ICDF3 = []\n",
    "temp3 = 0\n",
    "for i in expt3:    \n",
    "    temp3 = - theta3* np.log(1 - i)\n",
    "    ICDF3.append(temp3)"
   ]
  },
  {
   "cell_type": "code",
   "execution_count": 139,
   "metadata": {},
   "outputs": [],
   "source": [
    "expt = np.random.uniform(low=0.0, high=1.0, size=1000) #Cauchy\n",
    "ICDF = []\n",
    "temp = 0\n",
    "for i in expt:    \n",
    "    temp = 2 * np.tan(np.pi*(i-0.5))\n",
    "    ICDF.append(temp)"
   ]
  },
  {
   "cell_type": "markdown",
   "metadata": {},
   "source": [
    "#### Summary of Approach:"
   ]
  },
  {
   "cell_type": "code",
   "execution_count": 141,
   "metadata": {},
   "outputs": [
    {
     "data": {
      "text/plain": [
       "Text(0.5,0,'Samples')"
      ]
     },
     "execution_count": 141,
     "metadata": {},
     "output_type": "execute_result"
    },
    {
     "data": {
      "image/png": "[encoded data removed]",
      "text/plain": [
       "<Figure size 432x288 with 1 Axes>"
      ]
     },
     "metadata": {},
     "output_type": "display_data"
    }
   ],
   "source": [
    "plt.hist(ICDF1)\n",
    "plt.title('Exponential histogram for theta = 5')\n",
    "plt.ylabel('Density')\n",
    "plt.xlabel('Samples')"
   ]
  },
  {
   "cell_type": "markdown",
   "metadata": {},
   "source": [
    "#### Histograms for different values of $\\theta$ with scaled x axis"
   ]
  },
  {
   "cell_type": "code",
   "execution_count": 145,
   "metadata": {},
   "outputs": [
    {
     "data": {
      "text/plain": [
       "Text(0.5,0,'Samples')"
      ]
     },
     "execution_count": 145,
     "metadata": {},
     "output_type": "execute_result"
    },
    {
     "data": {
      "image/png": "[encoded data removed]",
      "text/plain": [
       "<Figure size 432x288 with 1 Axes>"
      ]
     },
     "metadata": {},
     "output_type": "display_data"
    }
   ],
   "source": [
    "plt.hist(ICDF1,range=(0,80))\n",
    "plt.title('Exponential histogram for theta = 5')\n",
    "plt.ylabel('Density')\n",
    "plt.xlabel('Samples')"
   ]
  },
  {
   "cell_type": "code",
   "execution_count": 146,
   "metadata": {},
   "outputs": [
    {
     "data": {
      "text/plain": [
       "Text(0.5,0,'Samples')"
      ]
     },
     "execution_count": 146,
     "metadata": {},
     "output_type": "execute_result"
    },
    {
     "data": {
      "image/png": "[encoded data removed]",
      "text/plain": [
       "<Figure size 432x288 with 1 Axes>"
      ]
     },
     "metadata": {},
     "output_type": "display_data"
    }
   ],
   "source": [
    "plt.hist(ICDF2,range=(0,80))\n",
    "plt.title('Exponential histogram for theta = 15')\n",
    "plt.ylabel('Density')\n",
    "plt.xlabel('Samples')"
   ]
  },
  {
   "cell_type": "code",
   "execution_count": 147,
   "metadata": {},
   "outputs": [
    {
     "data": {
      "text/plain": [
       "Text(0.5,0,'Samples')"
      ]
     },
     "execution_count": 147,
     "metadata": {},
     "output_type": "execute_result"
    },
    {
     "data": {
      "image/png": "[encoded data removed]",
      "text/plain": [
       "<Figure size 432x288 with 1 Axes>"
      ]
     },
     "metadata": {},
     "output_type": "display_data"
    }
   ],
   "source": [
    "plt.hist(ICDF3,range=(0,80))\n",
    "plt.title('Exponential histogram for theta = 25')\n",
    "plt.ylabel('Density')\n",
    "plt.xlabel('Samples')"
   ]
  },
  {
   "cell_type": "code",
   "execution_count": 140,
   "metadata": {},
   "outputs": [
    {
     "data": {
      "text/plain": [
       "Text(0.5,1,'Cauchy histogram')"
      ]
     },
     "execution_count": 140,
     "metadata": {},
     "output_type": "execute_result"
    },
    {
     "data": {
      "image/png": "[encoded data removed]",
      "text/plain": [
       "<Figure size 432x288 with 1 Axes>"
      ]
     },
     "metadata": {},
     "output_type": "display_data"
    }
   ],
   "source": [
    "plt.hist(ICDF,range=(-15,15))\n",
    "plt.title('Cauchy histogram')"
   ]
  },
  {
   "cell_type": "markdown",
   "metadata": {},
   "source": [
    "_Mean and variances_ : <br>\n",
    "\n",
    "Mean of exponential distribution: theta = 5 <br>\n",
    "Variance of exponential distribution: theta squared = 25 <br>\n",
    "\n",
    "Mean of Cauchy distribution: 0 <br>\n"
   ]
  },
  {
   "cell_type": "markdown",
   "metadata": {},
   "source": [
    "_Algorithm followed:_ <br>\n",
    "1. Sample from the uniform distribution <br>\n",
    "2. Find the CDF by integrating the pdf and getting the ICDF by making x the subject of formula<br>\n",
    "3. Substitute the value sampled from the uniform distribution in the inverse CDF of the given pdf with loaded parameters"
   ]
  },
  {
   "cell_type": "markdown",
   "metadata": {},
   "source": [
    "_Formulae_: <br> <br>\n",
    "The ICDF of an Exponential distribution is given by:\n",
    "x = - $\\theta$ * np.log(1 - u) <br>\n",
    "The ICDF of a Cauchy distribution (0,2) is given by:\n",
    "x= 2 * tan($\\pi$ * (u-0.5))"
   ]
  },
  {
   "cell_type": "markdown",
   "metadata": {},
   "source": [
    "#### Discussion of Results:"
   ]
  },
  {
   "cell_type": "markdown",
   "metadata": {},
   "source": [
    "- For continuous random variables, the graph of this density function will be continuous over its range. This is because it is defined over a continuous variable and also continuous range of values.\n",
    "- The probability of the assumption of values of random variable to lie between ‘c’ and ‘d’ is simply equal to the area that is bounded by the density function’s curve under the points ‘c’ and ‘d’.\n",
    "- The probability of getting the value less than a particular threshold is given by a CDF\n",
    "- If the CDF is strictly increasing and continuous then an inverse CDF can be defined.\n",
    "<br> \n",
    "\n",
    "For exponential histogram:\n",
    "\n",
    "- The ICDF method can help us obtain the relevant histogram. We can observe that the approximate outline of the histogram follows an exponential curve.\n",
    "- For different values of theta, we can see that the curve changes. \n",
    "- As theta decreases, the curve becomes steeper.\n",
    "- Exponential distributions have a waiting time which is proportional to the decay rate of the curve. Therefore, it is used in applications involving waiting time. \n",
    "- The property of memorylesness is attributed to exponential distributions.\n",
    "\n",
    "For Cauchy histogram:\n",
    "- For Cauchy, the histogram is centered on the first parameter which is 0 in this case.\n",
    "- On either side of the mean, the decay is rapid and the slope is steep.\n",
    "- In this experiment, I have limited the range of the histogram. The falloff in Cauchy is quick but once it reaches a lower threshold, the falloff is almost constant. \n",
    "- The range for Cauchy in actuality goes up to 600 with most of the samples concentrated around the mean.\n",
    "- The Cauchy RV has no higher moment.\n",
    "- An example of an application of Cauchy is in analyzing spinning objects."
   ]
  },
  {
   "cell_type": "markdown",
   "metadata": {},
   "source": [
    "### Other methods for testing goodness of fit."
   ]
  },
  {
   "cell_type": "markdown",
   "metadata": {},
   "source": [
    "One method for testing goodness of fit is histograms. Other methods are:\n",
    "\n",
    "1. Chi Squared Test:\n",
    "    The chi-squared test is used to determine whether there is a significant difference between the expected frequencies and the observed frequencies in one or more categories. The observations are classified into mutually exclusive classes, and there is some theory, which gives the probability that any observation falls into the corresponding class. The purpose of the test is to evaluate how likely the observations that are made would be, assuming the null hypothesis is true.\n",
    "    - Advantages: Can test association between variables,identifies differences between observed and expected values\n",
    "    - Disadvantages: Categories of 2 are not good to compare, the test fails for small observations and expectations  \n",
    "\n",
    "<br>\n",
    "\n",
    "2. Kolmogorov-Smirnov Test:\n",
    "    In statistics, the Kolmogorov–Smirnov test (K–S test or KS test) is a nonparametric test of the equality of continuous, one-dimensional probability distributions that can be used to compare a sample with a reference probability distribution (one-sample K–S test). In the special case of testing for normality of the distribution, samples are standardized and compared with a standard normal distribution. This is equivalent to setting the mean and variance of the reference distribution equal to the sample estimates. \n",
    "    - Advantages:  The distribution of statistic does not depend on CDF being tested and the test is exact.\n",
    "    - Disadvantages: The test is too conservative, and distributions that are not normal are wrongly classified as such.\n",
    "\n",
    "<br>\n",
    "\n",
    "3. Coefficient of determination (R Squared test):\n",
    "    The coefficient of determination, denoted R2 is the proportion of the variance in the dependent variable that is predictable from the independent variable(s). It is a statistic used in the context of statistical models whose main purpose is either the prediction of future outcomes or the testing of hypotheses, on the basis of other related information. It provides a measure of how well observed outcomes are replicated by the model, based on the proportion of total variation of outcomes explained by the model.\n",
    "    - Advantages: Accurate in most cases\n",
    "    - Disadantages: The R-squared can be used to compare two models that you already validated. \n",
    "\n",
    "\n",
    "4. Akaike information criterion\n",
    "    The Akaike information criterion (AIC) is an estimator of the relative quality of statistical models for a given set of data. Given a collection of models for the data, AIC estimates the quality of each model, relative to each of the other models. Thus, AIC provides a means for model selection. AIC estimates the relative amount of information lost by a given model: the less information a model loses, the higher the quality of that model.\n",
    "    \n",
    "Other methods include: <br>\n",
    "Reduced Chi Square test <br>\n",
    "Kuiper's test <br>\n",
    "Regression Validation <br>\n",
    "Cramer Von Criterion"
   ]
  },
  {
   "cell_type": "markdown",
   "metadata": {},
   "source": [
    "Source for definitions in above section: Wikipedia"
   ]
  },
  {
   "cell_type": "code",
   "execution_count": null,
   "metadata": {},
   "outputs": [],
   "source": []
  }
 ],
 "metadata": {
  "kernelspec": {
   "display_name": "Python 3",
   "language": "python",
   "name": "python3"
  },
  "language_info": {
   "codemirror_mode": {
    "name": "ipython",
    "version": 3
   },
   "file_extension": ".py",
   "mimetype": "text/x-python",
   "name": "python",
   "nbconvert_exporter": "python",
   "pygments_lexer": "ipython3",
   "version": "3.6.8"
  }
 },
 "nbformat": 4,
 "nbformat_minor": 2
}
